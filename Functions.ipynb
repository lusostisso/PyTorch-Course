{
 "cells": [
  {
   "cell_type": "markdown",
   "metadata": {},
   "source": [
    "SIGMOID FUNCTION\n",
    "\n",
    "'''\n",
    "Gives a value between 0 and 1\n",
    "if the value is close to 1, the probability of the output being 1 is high\n",
    "if the value is close to 0, the probability of the output being 0 is high\n",
    "if the value is close to 0.5, the probability of the output being 0 or 1 is equal\n",
    "'''"
   ]
  },
  {
   "cell_type": "code",
   "execution_count": null,
   "metadata": {},
   "outputs": [],
   "source": [
    "import math \n",
    "\n",
    "def sigmoid(x):\n",
    "    return 1 / (1 + math.exp(-x))\n",
    "\n",
    "'''\n",
    "Let's say we have a student that if he gets accepted in the university depends\n",
    "on his grades in school and how he did in the SAT test.\n",
    "\n",
    "The university takes this equation to decide if the student gets accepted or not:\n",
    "2*x1 + 1*x2 + 0,1 = y\n",
    "\n",
    "The student's grades are 8.5 on avarague and his SAT score is 4.\n",
    "What's the probability of him getting accepted in the university?\n",
    "'''\n",
    "\n",
    "print(sigmoid(4*(-4) + 5*(5) - 9 ))\n",
    "\n"
   ]
  },
  {
   "cell_type": "markdown",
   "metadata": {},
   "source": [
    "*SOFTMAX FUNCTION*"
   ]
  },
  {
   "cell_type": "code",
   "execution_count": null,
   "metadata": {},
   "outputs": [],
   "source": [
    "import numpy as np\n",
    "\n",
    "# Write a function that takes as input a list of numbers, and returns\n",
    "# the list of values given by the softmax function.\n",
    "def softmax(L):\n",
    "    results = []\n",
    "    expL = np.exp(L)\n",
    "    sumExpL = sum(expL)\n",
    "    for i in range(len(L)):\n",
    "        results.append((expL[i] / sumExpL))\n",
    "    return results\n",
    "    \n",
    "L = [2,1,0]\n",
    "print(softmax(L))\n",
    "\n",
    "\n",
    "# Udacity's solution:\n",
    "    # Note: The function np.divide can also be used here, as follows:\n",
    "    # def softmax(L):\n",
    "    #     expL = np.exp(L)\n",
    "    #     return np.divide (expL, expL.sum())"
   ]
  }
 ],
 "metadata": {
  "language_info": {
   "name": "python"
  }
 },
 "nbformat": 4,
 "nbformat_minor": 2
}
